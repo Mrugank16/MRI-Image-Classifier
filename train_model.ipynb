{
  "nbformat": 4,
  "nbformat_minor": 0,
  "metadata": {
    "colab": {
      "provenance": [],
      "gpuType": "T4"
    },
    "kernelspec": {
      "name": "python3",
      "display_name": "Python 3"
    },
    "language_info": {
      "name": "python"
    },
    "accelerator": "GPU"
  },
  "cells": [
    {
      "cell_type": "code",
      "execution_count": null,
      "metadata": {
        "colab": {
          "base_uri": "https://localhost:8080/"
        },
        "id": "8tUFFA4zW6Ps",
        "outputId": "07bdc41a-fb54-4132-e56a-eb72047c1eae"
      },
      "outputs": [
        {
          "output_type": "stream",
          "name": "stdout",
          "text": [
            "Mounted at drive\n"
          ]
        }
      ],
      "source": [
        "from google.colab import drive\n",
        "drive.mount('drive')"
      ]
    },
    {
      "cell_type": "code",
      "source": [
        "import tensorflow as tf\n",
        "from keras.preprocessing.image import ImageDataGenerator\n",
        "\n",
        "\n",
        "# Data Preprocessing\n",
        "train_datagen = ImageDataGenerator(\n",
        "    rescale=1./255,\n",
        "    shear_range=0.2,\n",
        "    zoom_range=0.2,\n",
        "    horizontal_flip=True\n",
        ")\n",
        "\n",
        "training_set = train_datagen.flow_from_directory(\n",
        "    'drive/My Drive/Deep Learning A-Z/Brain/Train',\n",
        "    target_size=(64, 64),\n",
        "    batch_size=32,\n",
        "    class_mode='binary'\n",
        ")\n",
        "\n",
        "test_datagen = ImageDataGenerator(rescale=1./255)\n",
        "\n",
        "test_set = test_datagen.flow_from_directory(\n",
        "    'drive/My Drive/Deep Learning A-Z/Brain/Val',\n",
        "    target_size=(64, 64),\n",
        "    batch_size=32,\n",
        "    class_mode='binary'\n",
        ")\n",
        "\n",
        "# Building the CNN\n",
        "cnn = tf.keras.models.Sequential()\n",
        "cnn.add(tf.keras.layers.Conv2D(filters=32, kernel_size=3, activation='relu', input_shape=[64, 64, 3]))\n",
        "cnn.add(tf.keras.layers.MaxPool2D(pool_size=2, strides=2))\n",
        "cnn.add(tf.keras.layers.Conv2D(filters=32, kernel_size=3, activation='relu'))\n",
        "cnn.add(tf.keras.layers.MaxPool2D(pool_size=2, strides=2))\n",
        "cnn.add(tf.keras.layers.Flatten())\n",
        "cnn.add(tf.keras.layers.Dense(units=128, activation='relu'))\n",
        "cnn.add(tf.keras.layers.Dense(units=1, activation='sigmoid'))\n",
        "\n",
        "# Compiling the CNN\n",
        "cnn.compile(optimizer='adam', loss='binary_crossentropy', metrics=['accuracy'])\n",
        "\n",
        "# Training the CNN\n",
        "cnn.fit(x=training_set, validation_data=test_set, epochs=25)\n",
        "\n",
        "# Save the trained model\n",
        "cnn.save('drive/My Drive/Deep Learning A-Z/Brain/my_model.h5')\n"
      ],
      "metadata": {
        "colab": {
          "base_uri": "https://localhost:8080/"
        },
        "id": "9dRCW7KzXOSi",
        "outputId": "b8c6fa89-2ad1-41d5-d6e4-93f675716a8c"
      },
      "execution_count": null,
      "outputs": [
        {
          "output_type": "stream",
          "name": "stdout",
          "text": [
            "Found 629 images belonging to 2 classes.\n",
            "Found 2 images belonging to 2 classes.\n",
            "Epoch 1/25\n",
            "20/20 [==============================] - 96s 4s/step - loss: 0.1084 - accuracy: 0.9666 - val_loss: 2.3411e-09 - val_accuracy: 1.0000\n",
            "Epoch 2/25\n",
            "20/20 [==============================] - 4s 198ms/step - loss: 0.0100 - accuracy: 0.9968 - val_loss: 2.6748e-11 - val_accuracy: 1.0000\n",
            "Epoch 3/25\n",
            "20/20 [==============================] - 3s 152ms/step - loss: 0.0196 - accuracy: 0.9921 - val_loss: 5.4177e-11 - val_accuracy: 1.0000\n",
            "Epoch 4/25\n",
            "20/20 [==============================] - 3s 149ms/step - loss: 0.0717 - accuracy: 0.9889 - val_loss: 3.9395e-04 - val_accuracy: 1.0000\n",
            "Epoch 5/25\n",
            "20/20 [==============================] - 4s 206ms/step - loss: 0.0131 - accuracy: 0.9936 - val_loss: 2.2868e-04 - val_accuracy: 1.0000\n",
            "Epoch 6/25\n",
            "20/20 [==============================] - 3s 152ms/step - loss: 0.0025 - accuracy: 1.0000 - val_loss: 5.1718e-06 - val_accuracy: 1.0000\n",
            "Epoch 7/25\n",
            "20/20 [==============================] - 3s 156ms/step - loss: 8.2355e-04 - accuracy: 1.0000 - val_loss: 7.3961e-07 - val_accuracy: 1.0000\n",
            "Epoch 8/25\n",
            "20/20 [==============================] - 3s 152ms/step - loss: 4.4359e-04 - accuracy: 1.0000 - val_loss: 1.7072e-07 - val_accuracy: 1.0000\n",
            "Epoch 9/25\n",
            "20/20 [==============================] - 3s 163ms/step - loss: 1.5657e-04 - accuracy: 1.0000 - val_loss: 8.2450e-08 - val_accuracy: 1.0000\n",
            "Epoch 10/25\n",
            "20/20 [==============================] - 3s 153ms/step - loss: 3.9482e-04 - accuracy: 1.0000 - val_loss: 5.2365e-08 - val_accuracy: 1.0000\n",
            "Epoch 11/25\n",
            "20/20 [==============================] - 3s 154ms/step - loss: 2.1958e-04 - accuracy: 1.0000 - val_loss: 2.6782e-08 - val_accuracy: 1.0000\n",
            "Epoch 12/25\n",
            "20/20 [==============================] - 4s 186ms/step - loss: 1.3619e-04 - accuracy: 1.0000 - val_loss: 1.2673e-08 - val_accuracy: 1.0000\n",
            "Epoch 13/25\n",
            "20/20 [==============================] - 3s 155ms/step - loss: 0.0017 - accuracy: 0.9984 - val_loss: 1.4582e-08 - val_accuracy: 1.0000\n",
            "Epoch 14/25\n",
            "20/20 [==============================] - 3s 153ms/step - loss: 0.0024 - accuracy: 1.0000 - val_loss: 6.2018e-08 - val_accuracy: 1.0000\n",
            "Epoch 15/25\n",
            "20/20 [==============================] - 3s 161ms/step - loss: 7.6165e-04 - accuracy: 1.0000 - val_loss: 2.6889e-08 - val_accuracy: 1.0000\n",
            "Epoch 16/25\n",
            "20/20 [==============================] - 3s 151ms/step - loss: 1.7657e-04 - accuracy: 1.0000 - val_loss: 2.1318e-08 - val_accuracy: 1.0000\n",
            "Epoch 17/25\n",
            "20/20 [==============================] - 3s 152ms/step - loss: 1.2688e-04 - accuracy: 1.0000 - val_loss: 1.2230e-08 - val_accuracy: 1.0000\n",
            "Epoch 18/25\n",
            "20/20 [==============================] - 4s 180ms/step - loss: 7.3455e-05 - accuracy: 1.0000 - val_loss: 5.4395e-09 - val_accuracy: 1.0000\n",
            "Epoch 19/25\n",
            "20/20 [==============================] - 3s 149ms/step - loss: 7.4040e-05 - accuracy: 1.0000 - val_loss: 3.7429e-09 - val_accuracy: 1.0000\n",
            "Epoch 20/25\n",
            "20/20 [==============================] - 3s 152ms/step - loss: 5.2677e-05 - accuracy: 1.0000 - val_loss: 2.4107e-09 - val_accuracy: 1.0000\n",
            "Epoch 21/25\n",
            "20/20 [==============================] - 4s 190ms/step - loss: 5.8597e-05 - accuracy: 1.0000 - val_loss: 1.5681e-09 - val_accuracy: 1.0000\n",
            "Epoch 22/25\n",
            "20/20 [==============================] - 3s 152ms/step - loss: 3.8362e-05 - accuracy: 1.0000 - val_loss: 1.1837e-09 - val_accuracy: 1.0000\n",
            "Epoch 23/25\n",
            "20/20 [==============================] - 3s 150ms/step - loss: 4.3832e-05 - accuracy: 1.0000 - val_loss: 9.2753e-10 - val_accuracy: 1.0000\n",
            "Epoch 24/25\n",
            "20/20 [==============================] - 3s 148ms/step - loss: 1.6422e-05 - accuracy: 1.0000 - val_loss: 7.9640e-10 - val_accuracy: 1.0000\n",
            "Epoch 25/25\n",
            "20/20 [==============================] - 4s 175ms/step - loss: 2.9586e-05 - accuracy: 1.0000 - val_loss: 6.2857e-10 - val_accuracy: 1.0000\n"
          ]
        },
        {
          "output_type": "stream",
          "name": "stderr",
          "text": [
            "/usr/local/lib/python3.10/dist-packages/keras/src/engine/training.py:3103: UserWarning: You are saving your model as an HDF5 file via `model.save()`. This file format is considered legacy. We recommend using instead the native Keras format, e.g. `model.save('my_model.keras')`.\n",
            "  saving_api.save_model(\n"
          ]
        }
      ]
    }
  ]
}